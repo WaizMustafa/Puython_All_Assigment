{
 "cells": [
  {
   "cell_type": "markdown",
   "id": "94ddf0ee-6014-415d-b7ef-dee365782826",
   "metadata": {},
   "source": [
    "# Write a Python program to create a class representing a Circle. Include methods to calculate its area and perimeter."
   ]
  },
  {
   "cell_type": "code",
   "execution_count": 1,
   "id": "15c89f90-d4cf-488b-b82f-872f9e2e7e4f",
   "metadata": {},
   "outputs": [
    {
     "name": "stdout",
     "output_type": "stream",
     "text": [
      "Circle ka Radius: 5\n",
      "Circle ka Area: 78.53981633974483\n",
      "Circle ka Perimeter: 31.41592653589793\n"
     ]
    }
   ],
   "source": [
    "# Step 1: Required library import\n",
    "import math\n",
    "\n",
    "# Step 2: Circle class banate hain\n",
    "class Circle:\n",
    "    def __init__(self, radius):\n",
    "        self.radius = radius   # radius attribute initialize karna\n",
    "    \n",
    "    def area(self):\n",
    "        return math.pi * (self.radius ** 2)   # area formula: πr^2\n",
    "    \n",
    "    def perimeter(self):\n",
    "        return 2 * math.pi * self.radius      # perimeter formula: 2πr\n",
    "\n",
    "\n",
    "# Step 3: Object create karte hain aur methods test karte hain\n",
    "circle1 = Circle(5)   # radius = 5\n",
    "\n",
    "print(\"Circle ka Radius:\", circle1.radius)\n",
    "print(\"Circle ka Area:\", circle1.area())\n",
    "print(\"Circle ka Perimeter:\", circle1.perimeter())"
   ]
  },
  {
   "cell_type": "markdown",
   "id": "4cb43b5f-d021-49c4-9efb-6abf86e59205",
   "metadata": {},
   "source": [
    "# Write a Python program to create a person class. Include attributes like name, country and date of birth. Implement a method to determine the person's age."
   ]
  },
  {
   "cell_type": "code",
   "execution_count": 2,
   "id": "f2fb8a63-f671-44dc-982c-6fac0c5d3978",
   "metadata": {},
   "outputs": [
    {
     "name": "stdout",
     "output_type": "stream",
     "text": [
      "Name: Ali\n",
      "Country: Pakistan\n",
      "Date of Birth: 2000-09-15\n",
      "Age: 25\n"
     ]
    }
   ],
   "source": [
    "from datetime import date\n",
    "\n",
    "class Person:\n",
    "    def __init__(self, name, country, date_of_birth):\n",
    "        self.name = name\n",
    "        self.country = country\n",
    "        self.date_of_birth = date_of_birth   # date_of_birth ka format (YYYY, MM, DD)\n",
    "    \n",
    "    def calculate_age(self):\n",
    "        today = date.today()\n",
    "        age = today.year - self.date_of_birth.year\n",
    "        \n",
    "        if (today.month, today.day) < (self.date_of_birth.month, self.date_of_birth.day):\n",
    "            age -= 1\n",
    "        return age\n",
    "\n",
    "\n",
    "person1 = Person(\"waiz\", \"Pakistan\", date(2000, 8, 8))\n",
    "\n",
    "print(\"Name:\", person1.name)\n",
    "print(\"Country:\", person1.country)\n",
    "print(\"Date of Birth:\", person1.date_of_birth)\n",
    "print(\"Age:\", person1.calculate_age())"
   ]
  },
  {
   "cell_type": "markdown",
   "id": "a0079148-e7d4-4084-9574-05733c58e5a8",
   "metadata": {},
   "source": [
    "# Write a Python program to create a calculator class. Include methods for basic arithmetic operations."
   ]
  },
  {
   "cell_type": "code",
   "execution_count": 6,
   "id": "44690a41-1b65-4b77-9813-9fd5e0d96d6a",
   "metadata": {},
   "outputs": [
    {
     "name": "stdout",
     "output_type": "stream",
     "text": [
      "Addition (10 + 5): 15\n",
      "Subtraction (18 - 5): 13\n",
      "Multiplication (90 * 5): 450\n",
      "Division (10 / 5): 2.0\n",
      "Division (10 / 89): 0.11235955056179775\n"
     ]
    }
   ],
   "source": [
    "class Calculator:\n",
    "    # Addition\n",
    "    def add(self, a, b):\n",
    "        return a + b\n",
    "    \n",
    "    # Subtraction\n",
    "    def subtract(self, a, b):\n",
    "        return a - b\n",
    "    \n",
    "    # Multiplication\n",
    "    def multiply(self, a, b):\n",
    "        return a * b\n",
    "    \n",
    "    # Division\n",
    "    def divide(self, a, b):\n",
    "        if b != 0:\n",
    "            return a / b\n",
    "        else:\n",
    "            return \"Error: Division by zero is not allowed!\"\n",
    "\n",
    "\n",
    "\n",
    "calc = Calculator()\n",
    "\n",
    "# Test operations\n",
    "print(\"Addition (10 + 5):\", calc.add(10, 5))\n",
    "print(\"Subtraction (18 - 5):\", calc.subtract(18, 5))\n",
    "print(\"Multiplication (90 * 5):\", calc.multiply(90, 5))\n",
    "print(\"Division (10 / 5):\", calc.divide(10, 5))\n",
    "print(\"Division (10 / 89):\", calc.divide(10, 89))\n"
   ]
  },
  {
   "cell_type": "code",
   "execution_count": null,
   "id": "a42f05a5-8522-466d-a656-cd5f340cae76",
   "metadata": {},
   "outputs": [],
   "source": []
  }
 ],
 "metadata": {
  "kernelspec": {
   "display_name": "Python [conda env:base] *",
   "language": "python",
   "name": "conda-base-py"
  },
  "language_info": {
   "codemirror_mode": {
    "name": "ipython",
    "version": 3
   },
   "file_extension": ".py",
   "mimetype": "text/x-python",
   "name": "python",
   "nbconvert_exporter": "python",
   "pygments_lexer": "ipython3",
   "version": "3.13.5"
  }
 },
 "nbformat": 4,
 "nbformat_minor": 5
}
