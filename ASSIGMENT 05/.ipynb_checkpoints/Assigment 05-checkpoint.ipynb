{
 "cells": [
  {
   "cell_type": "markdown",
   "id": "4045e4a6-0691-44b2-8634-6c010ec5878c",
   "metadata": {},
   "source": [
    "# looping Structures"
   ]
  },
  {
   "cell_type": "markdown",
   "id": "48690084-0d26-4d77-bb53-517807f3529b",
   "metadata": {},
   "source": [
    "## 1. Write a python program to print the number from 1 to 10 using  a for loop."
   ]
  },
  {
   "cell_type": "code",
   "execution_count": null,
   "id": "e82a36b7-9b4b-4f41-9ef2-978ee25f8507",
   "metadata": {},
   "outputs": [],
   "source": []
  },
  {
   "cell_type": "markdown",
   "id": "908c8664-71af-4824-a9bb-208ccbca2cbf",
   "metadata": {},
   "source": [
    "## 2.Write a python program to print the number from 20 to 1 using a while loop."
   ]
  },
  {
   "cell_type": "code",
   "execution_count": null,
   "id": "494db059-4063-4c3f-aed1-924399ccc6f8",
   "metadata": {},
   "outputs": [],
   "source": []
  },
  {
   "cell_type": "markdown",
   "id": "c5cef6f9-3cea-4f17-beb9-d88814516aee",
   "metadata": {},
   "source": [
    "## 3. write a program to print even number from 1 to 10."
   ]
  },
  {
   "cell_type": "code",
   "execution_count": null,
   "id": "bf70b204-0a36-4e46-aeff-7b9b18fc13f2",
   "metadata": {},
   "outputs": [],
   "source": []
  },
  {
   "cell_type": "markdown",
   "id": "7e27c333-2abb-4dcd-8e0b-1fcf562f4dbe",
   "metadata": {},
   "source": [
    "## 4 Write a program that prompts the user to enter a number n and print all the number from 1 to n."
   ]
  },
  {
   "cell_type": "code",
   "execution_count": null,
   "id": "cfee4a61-4941-4890-9a56-7f4d91b44ce4",
   "metadata": {},
   "outputs": [],
   "source": []
  },
  {
   "cell_type": "markdown",
   "id": "dafc9710-f495-4aea-ae26-e8975938c121",
   "metadata": {},
   "source": [
    "## 5. write a program that prompts the user to enter a number n , and then prints all the odd number between 1 and n."
   ]
  },
  {
   "cell_type": "code",
   "execution_count": null,
   "id": "d052cda1-1e56-4445-a482-e9437ed7fda7",
   "metadata": {},
   "outputs": [],
   "source": []
  },
  {
   "cell_type": "markdown",
   "id": "a02b3cb7-b462-40c5-bf02-3c451f817612",
   "metadata": {},
   "source": [
    "## 6.Write a program that prints 'happy birthday!' five time on screen.\n"
   ]
  },
  {
   "cell_type": "code",
   "execution_count": null,
   "id": "fdc5dbb6-7f02-45ea-8585-3dc164a76a60",
   "metadata": {},
   "outputs": [],
   "source": []
  },
  {
   "cell_type": "markdown",
   "id": "f823b25e-ebd9-4152-bf66-7f17fa91cf97",
   "metadata": {},
   "source": [
    "## 7. Write a program that takes a number n as input from the user and generates the first n terms of the series formed by squaring the natural numbers."
   ]
  },
  {
   "cell_type": "markdown",
   "id": "3669f728-f34f-4abd-a708-1c26c2c91764",
   "metadata": {},
   "source": [
    "## Sample output\n",
    "\n"
   ]
  },
  {
   "cell_type": "markdown",
   "id": "32baad3b-b104-437d-9399-bb8577b6ac37",
   "metadata": {},
   "source": [
    "## Enter a number:6\n"
   ]
  },
  {
   "cell_type": "markdown",
   "id": "2f2228b3-7242-426a-8961-4060d4e06bad",
   "metadata": {},
   "source": [
    "## The first 6 terms of the series are:\n"
   ]
  },
  {
   "cell_type": "markdown",
   "id": "ed3bfccc-5dd1-4e8b-b9b7-bb614eed654c",
   "metadata": {},
   "source": [
    "## 1 4 9 16 25 36"
   ]
  },
  {
   "cell_type": "code",
   "execution_count": null,
   "id": "f10e2139-4d33-49e1-bd6e-c5ad4ba0f62c",
   "metadata": {},
   "outputs": [],
   "source": []
  },
  {
   "cell_type": "markdown",
   "id": "e4aa530e-8c13-4fa4-8c83-98476d196e8a",
   "metadata": {},
   "source": [
    "## 8.Write a program taht prompts the user to input a number and print its multiplication table."
   ]
  },
  {
   "cell_type": "code",
   "execution_count": null,
   "id": "074f724c-d60f-42e0-8063-41e57c4845f1",
   "metadata": {},
   "outputs": [],
   "source": []
  },
  {
   "cell_type": "markdown",
   "id": "0d5ec4c0-6545-4b5b-8dd9-aae72c5b802d",
   "metadata": {},
   "source": [
    "## 9.Write a python program to print the first 8 terms of an arithmetic progression starting with 3 and having a common difference of 4.\n",
    "\n"
   ]
  },
  {
   "cell_type": "markdown",
   "id": "8c8b389b-2473-481b-a596-e2966c782859",
   "metadata": {},
   "source": [
    "## The program should output the following sequence:\n"
   ]
  },
  {
   "cell_type": "markdown",
   "id": "9e7ce414-ab48-45da-8095-400b9d2ab3d4",
   "metadata": {},
   "source": [
    "## 3 7 11 15 19 23 27 31"
   ]
  },
  {
   "cell_type": "code",
   "execution_count": null,
   "id": "1ba60d68-5096-41dc-8e4a-3d9134ccb337",
   "metadata": {},
   "outputs": [],
   "source": []
  },
  {
   "cell_type": "markdown",
   "id": "e4e5cb61-9c47-4508-97e4-6a322ca9a567",
   "metadata": {},
   "source": [
    "## 10.Write a python program to print the first 6 terms of a geometric sequence starting with 2 and having a common ratio of 3.\n",
    "\n"
   ]
  },
  {
   "cell_type": "markdown",
   "id": "206411f1-1595-4917-806e-dd956306e889",
   "metadata": {},
   "source": [
    "## The program shiould output the following sequence:\n"
   ]
  },
  {
   "cell_type": "markdown",
   "id": "c88fbf32-921d-4812-939e-e482bdfb090d",
   "metadata": {},
   "source": [
    "## 2 6 18 54 162 486"
   ]
  },
  {
   "cell_type": "code",
   "execution_count": null,
   "id": "90c6a815-1aa1-4b61-afd5-edfac0fd90a7",
   "metadata": {},
   "outputs": [],
   "source": []
  },
  {
   "cell_type": "markdown",
   "id": "928d2079-b444-4890-9c34-808d65100a03",
   "metadata": {},
   "source": [
    "## 11.Write a program that asks the user for a positive integer value.The program should calculate the sum of all the integers from 1 up to the number entered. for example, if the user enters 20, the loop will find the sum of 1,2,3,4,..........20."
   ]
  },
  {
   "cell_type": "code",
   "execution_count": null,
   "id": "ad6ebe5c-0b8e-478f-bc06-92a99ccad7cc",
   "metadata": {},
   "outputs": [],
   "source": []
  },
  {
   "cell_type": "markdown",
   "id": "5f5655d6-7bc5-4d6c-9cb4-b8f58cc31be0",
   "metadata": {},
   "source": [
    "## 12.Write a program that takes a positive integer N as input and calculates the sum of the reciprocals of all number from 1 up to N . The program should display the final sum."
   ]
  },
  {
   "cell_type": "code",
   "execution_count": null,
   "id": "b5c87a5e-a09f-4faa-85b0-2b88c9aeccca",
   "metadata": {},
   "outputs": [],
   "source": []
  }
 ],
 "metadata": {
  "kernelspec": {
   "display_name": "Python 3 (ipykernel)",
   "language": "python",
   "name": "python3"
  },
  "language_info": {
   "codemirror_mode": {
    "name": "ipython",
    "version": 3
   },
   "file_extension": ".py",
   "mimetype": "text/x-python",
   "name": "python",
   "nbconvert_exporter": "python",
   "pygments_lexer": "ipython3",
   "version": "3.13.5"
  }
 },
 "nbformat": 4,
 "nbformat_minor": 5
}
