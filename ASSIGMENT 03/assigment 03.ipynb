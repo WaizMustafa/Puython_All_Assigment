{
 "cells": [
  {
   "cell_type": "code",
   "execution_count": null,
   "id": "37ab4a27",
   "metadata": {},
   "outputs": [],
   "source": []
  },
  {
   "cell_type": "markdown",
   "id": "546990b0-0a0e-4563-bcb4-4a18b264da70",
   "metadata": {},
   "source": [
    "## 1.Write a program that accepts a string from user. your program should count and display numer of vowels in that string.\n"
   ]
  },
  {
   "cell_type": "code",
   "execution_count": 1,
   "id": "5f98c659-b727-4106-ac8d-4e63732e1540",
   "metadata": {},
   "outputs": [
    {
     "name": "stdout",
     "output_type": "stream",
     "text": [
      "Number of vowels in the string: 16\n"
     ]
    }
   ],
   "source": [
    "user_input = input(\"Enter a string: \")\n",
    "vowels = \"aeiouAEIOU\"\n",
    "vowel_count = sum(1 for char in user_input if char in vowels)\n",
    "print(f\"Number of vowels in the string: {vowel_count}\")"
   ]
  },
  {
   "cell_type": "markdown",
   "id": "e543268a-73af-4f43-af80-5381b2e9296b",
   "metadata": {},
   "source": [
    "## Write a program that reads a string from keyboard and display:"
   ]
  },
  {
   "cell_type": "markdown",
   "id": "fb22eff6-87fe-4f7f-be18-dffcc031425a",
   "metadata": {},
   "source": [
    "## ⦁ the number of uppercase letter in the string"
   ]
  },
  {
   "cell_type": "markdown",
   "id": "70b8c4be-1ba0-41f0-8767-f18f6f4dbe70",
   "metadata": {},
   "source": [
    "## ⦁ the number of lowercase letter in the string\n"
   ]
  },
  {
   "cell_type": "markdown",
   "id": "2aeb4634-547f-4d66-a4a8-cf85afbddde8",
   "metadata": {},
   "source": [
    "## ⦁ the number of digit in the string \n"
   ]
  },
  {
   "cell_type": "markdown",
   "id": "f5930cdd-c934-4afc-9862-7d6f6894a39d",
   "metadata": {},
   "source": [
    "## ⦁ the number of whitespace character in the string"
   ]
  },
  {
   "cell_type": "code",
   "execution_count": 9,
   "id": "c128c303-1c72-48c6-866c-45a9ea1f4b56",
   "metadata": {},
   "outputs": [
    {
     "name": "stdout",
     "output_type": "stream",
     "text": [
      "Enter a string:  Aa0 BbkxbajBJKJKajkA 81798\n"
     ]
    },
    {
     "name": "stdout",
     "output_type": "stream",
     "text": [
      "Number of uppercase letters: 8\n",
      "Number of lowercase letters: 10\n",
      "Number of digits: 6\n",
      "Number of whitespace characters: 2\n"
     ]
    }
   ],
   "source": [
    "user_input = input(\"Enter a string: \")\n",
    "\n",
    "uppercase_count = sum(1 for c in user_input if c.isupper())\n",
    "lowercase_count = sum(1 for c in user_input if c.islower())\n",
    "digit_count = sum(1 for c in user_input if c.isdigit())\n",
    "whitespace_count = sum(1 for c in user_input if c.isspace())\n",
    "\n",
    "print(f\"Number of uppercase letters: {uppercase_count}\")\n",
    "print(f\"Number of lowercase letters: {lowercase_count}\")\n",
    "print(f\"Number of digits: {digit_count}\")\n",
    "print(f\"Number of whitespace characters: {whitespace_count}\")"
   ]
  },
  {
   "cell_type": "markdown",
   "id": "b4c6e577-3de1-43a1-9b09-ee81876c7b83",
   "metadata": {},
   "source": [
    "## .Write a Python program that accepts a string from user . your program should create and display a new string where the first and last characters have been exhanged.\n"
   ]
  },
  {
   "cell_type": "markdown",
   "id": "0cf21966-b9d1-47f7-a55f-8e84141af488",
   "metadata": {},
   "source": [
    "## For example if the user enter the string 'hello' then new string would be 'OELLH'"
   ]
  },
  {
   "cell_type": "code",
   "execution_count": 3,
   "id": "25576827-6a51-4c11-9803-5f27c116f8b3",
   "metadata": {},
   "outputs": [
    {
     "name": "stdout",
     "output_type": "stream",
     "text": [
      "New string: OellH\n"
     ]
    }
   ],
   "source": [
    "user_str = input(\"Enter a string: \")\n",
    "if len(user_str) < 2:\n",
    "    new_str = user_str.upper()\n",
    "else:\n",
    "    new_str = user_str[-1].upper() + user_str[1:-1] + user_str[0].upper()\n",
    "print(\"New string:\", new_str)"
   ]
  },
  {
   "cell_type": "markdown",
   "id": "c7b85c7d-4940-45dc-9c63-61b728dfa14d",
   "metadata": {},
   "source": [
    "## 4.Write a pyhton program that accepts a string from user . Your Program should create a new string in reverse of first string and display it.\n"
   ]
  },
  {
   "cell_type": "markdown",
   "id": "6f1036cc-5bbc-4b29-85b4-65d2ac8a1c75",
   "metadata": {},
   "source": [
    "## For Example if the user enters the string 'EXAM\"' then new string would be 'MAXE\""
   ]
  },
  {
   "cell_type": "code",
   "execution_count": 6,
   "id": "2b6b7c72-2776-4128-94e8-2eff2539ffe9",
   "metadata": {},
   "outputs": [
    {
     "name": "stdout",
     "output_type": "stream",
     "text": [
      "Reversed string: ziaw\n"
     ]
    }
   ],
   "source": [
    "user_input = input(\"Enter a string: \")\n",
    "reversed_string = user_input[::-1]\n",
    "print(\"Reversed string:\", reversed_string)"
   ]
  },
  {
   "cell_type": "markdown",
   "id": "c303e47b-eafb-4a9b-a8f0-f3f3bdd95672",
   "metadata": {},
   "source": [
    "## 5.Write a python program that accepts a string from user. Your program should create a new string by shifting one position to left."
   ]
  },
  {
   "cell_type": "markdown",
   "id": "3dab8899-46e2-4ca1-b909-2214d110f9c1",
   "metadata": {},
   "source": [
    "## For example if the user enter the string  'examination 2021' then new string would be 'xamination 2021e"
   ]
  },
  {
   "cell_type": "code",
   "execution_count": 7,
   "id": "e6f0a997-e5af-42b5-be74-a7dde3c12130",
   "metadata": {},
   "outputs": [
    {
     "name": "stdout",
     "output_type": "stream",
     "text": [
      "Shifted string: aiz 123w\n"
     ]
    }
   ],
   "source": [
    "user_str = input(\"Enter a string: \")\n",
    "if len(user_str) > 0:\n",
    "    shifted_str = user_str[1:] + user_str[0]\n",
    "else:\n",
    "    shifted_str = user_str\n",
    "print(\"Shifted string:\", shifted_str)"
   ]
  },
  {
   "cell_type": "markdown",
   "id": "e6634c69-6d8a-4725-afc1-31e2d2c27f0a",
   "metadata": {},
   "source": [
    "## 6.Write a program that asks the user to input his name and print its initials . Assuming that the user always types first anme, middle name and last name and does not include any unnecessary spaces.\n",
    "\n"
   ]
  },
  {
   "cell_type": "markdown",
   "id": "374f6cfd-20f1-45e4-9c7c-5a8ce132326f",
   "metadata": {},
   "source": [
    "## For Example: if the user enters ajay kumar GARG  the program should display A.K.G.\n"
   ]
  },
  {
   "cell_type": "markdown",
   "id": "366cfd9d-9109-4451-bea4-202b64125e51",
   "metadata": {},
   "source": [
    "## Note:Don't use split() method"
   ]
  },
  {
   "cell_type": "code",
   "execution_count": 9,
   "id": "4aa4f59b-e701-495d-8161-a6a43b8f4e95",
   "metadata": {},
   "outputs": [
    {
     "name": "stdout",
     "output_type": "stream",
     "text": [
      "M.W.M.\n"
     ]
    }
   ],
   "source": [
    "full_name = input(\"Enter your first name, middle name, and last name: \")\n",
    "\n",
    "initials = \"\"\n",
    "un_space = True  # To capture the first character as well\n",
    "\n",
    "for char in full_name:\n",
    "    if un_space and char != \" \":\n",
    "        initials += char.upper() + \".\"\n",
    "        un_space = False\n",
    "    elif char == \" \":\n",
    "        un_space = True\n",
    "\n",
    "print(initials)"
   ]
  },
  {
   "cell_type": "markdown",
   "id": "59d1a942-e3dc-4727-a093-5b8c03ef1f8e",
   "metadata": {},
   "source": [
    "## 7.A palindrome is a string that reads the same backward as forward. For example, the word dad, madam and radar are all palindromes. Write a program that determines whether the string is a palindrome.\n",
    "\n"
   ]
  },
  {
   "cell_type": "markdown",
   "id": "b1d055b4-88a3-4606-ad3c-9408617a5bc3",
   "metadata": {},
   "source": [
    "## Note : do not use reverse() method"
   ]
  },
  {
   "cell_type": "code",
   "execution_count": 15,
   "id": "01a26a49-151e-4161-aabe-d70d746311b9",
   "metadata": {},
   "outputs": [
    {
     "name": "stdout",
     "output_type": "stream",
     "text": [
      "\"sir\" is not a palindrome.\n"
     ]
    }
   ],
   "source": [
    "input_str = input(\"Enter a string: \")\n",
    "\n",
    "clean_str = input_str.replace(\" \", \"\").lower()\n",
    "is_palindrome = True\n",
    "\n",
    "for i in range(len(clean_str) // 2):\n",
    "    if clean_str[i] != clean_str[-(i + 1)]:\n",
    "        is_palindrome = False\n",
    "        break\n",
    "\n",
    "if is_palindrome:\n",
    "    print(f'\"{input_str}\" is a palindrome.')\n",
    "else:\n",
    "    print(f'\"{input_str}\" is not a palindrome.')\n"
   ]
  },
  {
   "cell_type": "markdown",
   "id": "d072330b-21ff-45ed-8b96-b6795d59ec15",
   "metadata": {},
   "source": [
    "## 8. Write a program that display following output:"
   ]
  },
  {
   "cell_type": "markdown",
   "id": "df069633-f36d-4db6-be9e-b9466139c0f9",
   "metadata": {},
   "source": [
    "## ⦁SHIFT\n",
    "\n"
   ]
  },
  {
   "cell_type": "markdown",
   "id": "c5611680-5e31-43ae-b6cd-8bc0c85ba075",
   "metadata": {},
   "source": [
    "## ⦁HIFTS\n"
   ]
  },
  {
   "cell_type": "markdown",
   "id": "5756c80b-4ccf-4db5-ac7d-2538264ef0ca",
   "metadata": {},
   "source": [
    "## ⦁IFTSH\n",
    "  "
   ]
  },
  {
   "cell_type": "markdown",
   "id": "5d3f6703-e54c-46d1-9521-c4266e1db59a",
   "metadata": {},
   "source": [
    "## ⦁FTSHI\n"
   ]
  },
  {
   "cell_type": "markdown",
   "id": "72ffc856-9447-47ab-a650-e7c9b36993fc",
   "metadata": {},
   "source": [
    "## ⦁TSHIF\n"
   ]
  },
  {
   "cell_type": "markdown",
   "id": "4ef52074-6a34-4814-a7db-a5d2f0ed0fca",
   "metadata": {},
   "source": [
    "## ⦁SHIFT"
   ]
  },
  {
   "cell_type": "code",
   "execution_count": 18,
   "id": "e91a3d6b-1c02-4c23-bdce-00b19bf9b445",
   "metadata": {},
   "outputs": [
    {
     "name": "stdout",
     "output_type": "stream",
     "text": [
      "shift\n",
      "hifts\n",
      "iftsh\n",
      "ftshi\n",
      "tshif\n",
      "shift\n"
     ]
    }
   ],
   "source": [
    "word = \"shift\"\n",
    "for i in range(len(word) + 1):\n",
    "    print(word)\n",
    "    word = word[1:] + word[0]"
   ]
  },
  {
   "cell_type": "markdown",
   "id": "01f29b02-a834-40a2-a834-a793321c9d8c",
   "metadata": {},
   "source": [
    "## 9. Write a program in python that accept a string to setup a password . your entered password must meet the following requirments:\n",
    "\n"
   ]
  },
  {
   "cell_type": "markdown",
   "id": "5462893e-1ef9-4184-9070-f1c4ce6a34a4",
   "metadata": {},
   "source": [
    "## ⦁The password must be least eight characters long.\n"
   ]
  },
  {
   "cell_type": "markdown",
   "id": "eab74316-0325-4c61-b210-739ddcfed049",
   "metadata": {},
   "source": [
    "## ⦁it must contain at least one uppercase letter .\n"
   ]
  },
  {
   "cell_type": "markdown",
   "id": "a4a1979c-2967-4072-a59a-ebf4f00bfcb0",
   "metadata": {},
   "source": [
    "## ⦁it must contain at least  one lowercase letter.\n"
   ]
  },
  {
   "cell_type": "markdown",
   "id": "91f0f4e4-7990-4402-bd7d-7c0a72421bd3",
   "metadata": {},
   "source": [
    "## ⦁it must contain at least one numeric digit.\n"
   ]
  },
  {
   "cell_type": "markdown",
   "id": "2354ecc8-ab8e-4b63-b702-169f0cf361cf",
   "metadata": {},
   "source": [
    "## ⦁your program should perform this validation."
   ]
  },
  {
   "cell_type": "code",
   "execution_count": 2,
   "id": "cbb76817-6c79-43c7-8a6a-0832e2fbc085",
   "metadata": {},
   "outputs": [
    {
     "name": "stdout",
     "output_type": "stream",
     "text": [
      "Password is valid.\n"
     ]
    }
   ],
   "source": [
    "import re # regular experession module\n",
    "\n",
    "\n",
    "\n",
    "password = input(\"Set your password: \")\n",
    "\n",
    "if (len(password) >= 8 and\n",
    "    re.search(r'[A-Z]', password) and\n",
    "    re.search(r'[a-z]', password) and\n",
    "    re.search(r'\\d', password)):\n",
    "    print(\"Password is valid.\")\n",
    "else:\n",
    "    print(\"Password is invalid. It must be at least 8 characters long, contain at least one uppercase letter, one lowercase letter, and one digit.\")"
   ]
  },
  {
   "cell_type": "code",
   "execution_count": null,
   "id": "8af3a41c",
   "metadata": {},
   "outputs": [],
   "source": []
  },
  {
   "cell_type": "code",
   "execution_count": null,
   "id": "e14e470c",
   "metadata": {},
   "outputs": [],
   "source": []
  }
 ],
 "metadata": {
  "kernelspec": {
   "display_name": "base",
   "language": "python",
   "name": "python3"
  },
  "language_info": {
   "codemirror_mode": {
    "name": "ipython",
    "version": 3
   },
   "file_extension": ".py",
   "mimetype": "text/x-python",
   "name": "python",
   "nbconvert_exporter": "python",
   "pygments_lexer": "ipython3",
   "version": "3.13.5"
  }
 },
 "nbformat": 4,
 "nbformat_minor": 5
}
