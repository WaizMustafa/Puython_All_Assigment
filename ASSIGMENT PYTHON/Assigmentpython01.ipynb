{
 "cells": [
  {
   "cell_type": "markdown",
   "id": "2fa7927e-43d8-4cf9-ac02-f4dc5100a3a5",
   "metadata": {},
   "source": [
    "## Print Your Name with your Father name and Date of birth using suitable escape sequence charactor"
   ]
  },
  {
   "cell_type": "code",
   "execution_count": 3,
   "id": "d644de0e-630b-4cb6-ac43-cbaf994126d8",
   "metadata": {},
   "outputs": [
    {
     "name": "stdout",
     "output_type": "stream",
     "text": [
      "Name:\tWaiz Mustafa\n",
      "Father Name:\tMuhammad Waseem\n",
      "Date of Birth:\t08-08-2000\n"
     ]
    }
   ],
   "source": [
    "print(\"Name:\\tWaiz Mustafa\\nFather Name:\\tMuhammad Waseem\\nDate of Birth:\\t08-08-2000\")"
   ]
  },
  {
   "cell_type": "markdown",
   "id": "7ca685e4-7014-436f-ac38-77c504dac3fc",
   "metadata": {},
   "source": [
    "## Write your small bio using variables and print it using print function"
   ]
  },
  {
   "cell_type": "code",
   "execution_count": 19,
   "id": "94a27e8f-6a0c-45bb-badb-4d2f0d7ca766",
   "metadata": {},
   "outputs": [
    {
     "name": "stdout",
     "output_type": "stream",
     "text": [
      " \tMy name is Waiz Mustafa\n",
      " i,am 25 year old and i,am studing cloud computing\n"
     ]
    }
   ],
   "source": [
    "name = \" \\tMy name is Waiz Mustafa\\n\"\n",
    "age = \"i,am 25 year old and i,am studing cloud computing\"\n",
    "print(name,age)"
   ]
  },
  {
   "cell_type": "markdown",
   "id": "8c06ce22-419a-4122-b108-46d9a5a4df33",
   "metadata": {},
   "source": [
    "## Write a program in which use all the operators we can use in Python "
   ]
  },
  {
   "cell_type": "code",
   "execution_count": 56,
   "id": "193a8013-8e3f-4018-87d8-eeba75aed5e9",
   "metadata": {},
   "outputs": [
    {
     "name": "stdout",
     "output_type": "stream",
     "text": [
      "Arithmetic Operators: 19 1 90 1.1111111111111112 1 1 1000000000\n",
      "Assignment Operators: 2.9\n",
      "Assignment Operators: 7\n",
      "Assignment Operators: 21\n",
      "Assignment Operators: 3.0\n",
      "Assignment Operators: 2\n",
      "Assignment Operators: 1\n",
      "Assignment Operators: 8\n",
      "Comparison Operators: False True True False True False\n",
      "Logical Operators: False False True\n",
      "Membership Operators: True True\n",
      "Identity Operators: False True\n"
     ]
    }
   ],
   "source": [
    "# arthematic operation\n",
    "a = 10\n",
    "b = 9\n",
    "arith_add = a + b\n",
    "arith_sub = a - b\n",
    "arith_mul = a * b\n",
    "arith_div = a / b\n",
    "arith_floordiv = a // b\n",
    "arith_mod = a % b\n",
    "arith_pow = a ** b\n",
    "\n",
    "# Assignment Operators\n",
    "x = 0.9\n",
    "x += 2\n",
    "# Assignment Operators\n",
    "y=8\n",
    "y -= 1\n",
    "# assignment operators\n",
    "z = 7\n",
    "z *= 3\n",
    "#Assignment operators\n",
    "t=6\n",
    "t /= 2\n",
    "#Assignment operators\n",
    "w = 4\n",
    "w //= 2\n",
    "#Assignment operators\n",
    "e = 5\n",
    "e %= 2\n",
    "#Assignment operators\n",
    "r = 2\n",
    "r **= 3\n",
    "\n",
    "# Comparison Operators\n",
    "comp_eq = (a == b)\n",
    "comp_ne = (a != b)\n",
    "comp_gt = (a > b)\n",
    "comp_lt = (a < b)\n",
    "comp_ge = (a >= b)\n",
    "comp_le = (a <= b)\n",
    "\n",
    "# Logical Operators\n",
    "logic_and = (a > 5 and b < 5)\n",
    "logic_or = (a < 5 or b < 5)\n",
    "logic_not = not (a == b)\n",
    "\n",
    "\n",
    "\n",
    "# Membership Operators\n",
    "list1 = [1, 2, 3]\n",
    "mem_in = 2 in list1\n",
    "mem_notin = 4 not in list1\n",
    "\n",
    "# Identity Operators\n",
    "ident_is = (a is b)\n",
    "ident_isnot = (a is not b)\n",
    "\n",
    "# Print all results\n",
    "print(\"Arithmetic Operators:\", arith_add, arith_sub, arith_mul, arith_div, arith_floordiv, arith_mod, arith_pow)\n",
    "print(\"Assignment Operators:\", x)\n",
    "print(\"Assignment Operators:\", y)\n",
    "print(\"Assignment Operators:\", z)\n",
    "print(\"Assignment Operators:\", t)\n",
    "print(\"Assignment Operators:\", w)\n",
    "print(\"Assignment Operators:\", e)\n",
    "print(\"Assignment Operators:\", r)\n",
    "print(\"Comparison Operators:\", comp_eq, comp_ne, comp_gt, comp_lt, comp_ge, comp_le)\n",
    "print(\"Logical Operators:\", logic_and, logic_or, logic_not)\n",
    "print(\"Membership Operators:\", mem_in, mem_notin)\n",
    "print(\"Identity Operators:\", ident_is, ident_isnot)"
   ]
  },
  {
   "cell_type": "markdown",
   "id": "b896b653-1083-4b46-b131-267e9f3b0723",
   "metadata": {},
   "source": [
    "# Completes the following steps of small task:\n"
   ]
  },
  {
   "cell_type": "markdown",
   "id": "72fa0cd8-2862-4dc8-9702-0f7f05f79d3d",
   "metadata": {},
   "source": [
    "### 1.Mention Marks of English , Islamiat and Maths out of 100 in 3 different variables\n"
   ]
  },
  {
   "cell_type": "markdown",
   "id": "f74152c2-86de-4d40-8a36-54f9b69c40df",
   "metadata": {},
   "source": [
    "### 2.Mention Variable of Total Marks and assign 300 to it.    3.Calculate Percentage"
   ]
  },
  {
   "cell_type": "code",
   "execution_count": 26,
   "id": "8798c9d5-641d-405c-a034-46ebcd3272c8",
   "metadata": {},
   "outputs": [
    {
     "name": "stdout",
     "output_type": "stream",
     "text": [
      "Percentage: 85.0%\n"
     ]
    }
   ],
   "source": [
    "english_marks = 85\n",
    "islamiat_marks = 78\n",
    "maths_marks = 92\n",
    "\n",
    "total_marks = 300\n",
    "obtained_marks = english_marks + islamiat_marks + maths_marks\n",
    "\n",
    "percentage = (obtained_marks / total_marks) * 100\n",
    "print(f\"Percentage: {percentage}%\")"
   ]
  },
  {
   "cell_type": "markdown",
   "id": "af4ce06f-5125-41df-81ff-fcdb9aa09574",
   "metadata": {},
   "source": [
    "# Part -2 Python Basics (Conditional Statements)\n"
   ]
  },
  {
   "cell_type": "markdown",
   "id": "e152ae9c-ea4c-4561-a229-068752e5e164",
   "metadata": {},
   "source": [
    "## A company decided to give bonus of 5% to employee if his/her year of service is more than 5 years. Ask user for their salary and year of service and print the net bonus amount."
   ]
  },
  {
   "cell_type": "code",
   "execution_count": 29,
   "id": "0f5d9e2c-4f16-4319-9b8a-d0395897dfae",
   "metadata": {},
   "outputs": [
    {
     "name": "stdin",
     "output_type": "stream",
     "text": [
      "Enter your salary:  8000\n",
      "Enter your years of service:  4\n"
     ]
    },
    {
     "name": "stdout",
     "output_type": "stream",
     "text": [
      "No bonus awarded.\n"
     ]
    }
   ],
   "source": [
    "salary = float(input(\"Enter your salary: \"))\n",
    "years_of_service = int(input(\"Enter your years of service: \"))\n",
    "\n",
    "if years_of_service > 5:\n",
    "    bonus = salary * 0.05\n",
    "    print(f\"Net bonus amount: {bonus}\")\n",
    "else:\n",
    "    print(\"No bonus awarded.\")"
   ]
  },
  {
   "cell_type": "markdown",
   "id": "b7bf90ca-d693-44ff-9f45-8641ee86ad12",
   "metadata": {},
   "source": [
    "## Write a program to check whether a person is eligible for voting or not. (accept age from user) if age is greater than 17 eligible otherwise not eligible"
   ]
  },
  {
   "cell_type": "code",
   "execution_count": 30,
   "id": "414547dd-2718-4d09-983b-ee5f0f40945c",
   "metadata": {},
   "outputs": [
    {
     "name": "stdin",
     "output_type": "stream",
     "text": [
      "Enter your age:  9\n"
     ]
    },
    {
     "name": "stdout",
     "output_type": "stream",
     "text": [
      "Not eligible for voting\n"
     ]
    }
   ],
   "source": [
    "voter_age = int(input(\"Enter your age: \"))\n",
    "if voter_age > 17:\n",
    "    print(\"Eligible for voting\")\n",
    "else:\n",
    "    print(\"Not eligible for voting\")"
   ]
  },
  {
   "cell_type": "markdown",
   "id": "f1583194-b2d0-410e-bc57-da9c897c5ee3",
   "metadata": {},
   "source": [
    "## Write a program to check whether a number entered by user is even or odd."
   ]
  },
  {
   "cell_type": "code",
   "execution_count": 33,
   "id": "93a8b167-7716-4633-b65c-e159b0a41c33",
   "metadata": {},
   "outputs": [
    {
     "name": "stdin",
     "output_type": "stream",
     "text": [
      "Enter a number:  7\n"
     ]
    },
    {
     "name": "stdout",
     "output_type": "stream",
     "text": [
      "7 is odd.\n"
     ]
    }
   ],
   "source": [
    "num = int(input(\"Enter a number: \"))\n",
    "if num % 2 == 0:\n",
    "    print(f\"{num} is even.\")\n",
    "else:\n",
    "    print(f\"{num} is odd.\")"
   ]
  },
  {
   "cell_type": "markdown",
   "id": "29fb3e97-7ef7-4f18-8bbf-e2dda948cc51",
   "metadata": {},
   "source": [
    "## Write a program to check whether a number is divisible by 7 or not. Show Answer"
   ]
  },
  {
   "cell_type": "code",
   "execution_count": 36,
   "id": "ff607e16-dc9f-49a5-afe5-8b0ec78c72bf",
   "metadata": {},
   "outputs": [
    {
     "name": "stdout",
     "output_type": "stream",
     "text": [
      "42 is divisible by 7.\n"
     ]
    }
   ],
   "source": [
    "number = 42\n",
    "\n",
    "if number % 7 == 0:\n",
    "    print(f\"{number} is divisible by 7.\")\n",
    "else:\n",
    "    print(f\"{number} is not divisible by 7.\")"
   ]
  },
  {
   "cell_type": "markdown",
   "id": "60326f53-fcb9-4dd1-a9f5-7ab8d7c4486d",
   "metadata": {},
   "source": [
    "## Write a program to display \"Hello\" if a number entered by user is a multiple of five , otherwise print \"Bye"
   ]
  },
  {
   "cell_type": "code",
   "execution_count": 40,
   "id": "7a8400c6-5185-4478-b44e-f7d44f76cfbb",
   "metadata": {},
   "outputs": [
    {
     "name": "stdin",
     "output_type": "stream",
     "text": [
      "Enter a number:  10\n"
     ]
    },
    {
     "name": "stdout",
     "output_type": "stream",
     "text": [
      "Hello\n"
     ]
    }
   ],
   "source": [
    "num = int(input(\"Enter a number: \"))\n",
    "if num % 5 == 0:\n",
    "    print(\"Hello\")\n",
    "else:\n",
    "    print(\"Bye\")"
   ]
  },
  {
   "cell_type": "code",
   "execution_count": 38,
   "id": "0886ae94-048a-453b-b73a-02190f2f657f",
   "metadata": {},
   "outputs": [
    {
     "name": "stdin",
     "output_type": "stream",
     "text": [
      "Enter a number:  9\n"
     ]
    },
    {
     "name": "stdout",
     "output_type": "stream",
     "text": [
      "Bye\n"
     ]
    }
   ],
   "source": [
    "num = int(input(\"Enter a number: \"))\n",
    "if num % 5 == 0:\n",
    "    print(\"Hello\")\n",
    "else:\n",
    "    print(\"Bye\")"
   ]
  },
  {
   "cell_type": "markdown",
   "id": "eeba7c79-e170-4e60-9f02-d3b1a682831d",
   "metadata": {},
   "source": [
    "## Write a program to display the last digit of a number."
   ]
  },
  {
   "cell_type": "code",
   "execution_count": 57,
   "id": "b0b361ed-b869-4b60-a34c-fc53fef06427",
   "metadata": {},
   "outputs": [
    {
     "name": "stdout",
     "output_type": "stream",
     "text": [
      "The last digit of 10 is 0\n"
     ]
    }
   ],
   "source": [
    "number = a  \n",
    "last_digit = number % 10\n",
    "print(\"The last digit of\", number, \"is\", last_digit)"
   ]
  },
  {
   "cell_type": "markdown",
   "id": "4c2cdc8f-57a5-43fc-9f97-59e52a266b65",
   "metadata": {},
   "source": [
    "## Take values of length and breadth of a rectangle from user and print if it is square or rectangle\n"
   ]
  },
  {
   "cell_type": "code",
   "execution_count": 60,
   "id": "a64b2592-0f0d-4d63-aff1-68dafe7a802f",
   "metadata": {},
   "outputs": [
    {
     "name": "stdin",
     "output_type": "stream",
     "text": [
      "Enter the length:  7\n",
      "Enter the breadth:  7\n"
     ]
    },
    {
     "name": "stdout",
     "output_type": "stream",
     "text": [
      "It is a square.\n"
     ]
    }
   ],
   "source": [
    "length = float(input(\"Enter the length: \"))\n",
    "breadth = float(input(\"Enter the breadth: \"))\n",
    "\n",
    "if length == breadth:\n",
    "    print(\"It is a square.\")\n",
    "else:\n",
    "    print(\"It is a rectangle.\")"
   ]
  },
  {
   "cell_type": "markdown",
   "id": "0e77e9a7-264d-494a-a225-9dc4203e3436",
   "metadata": {},
   "source": [
    "## Take two int values from user and print greatest among them."
   ]
  },
  {
   "cell_type": "code",
   "execution_count": 62,
   "id": "0b3feb28-87e9-4dfd-ab46-66a88433a9be",
   "metadata": {},
   "outputs": [
    {
     "name": "stdin",
     "output_type": "stream",
     "text": [
      "Enter first integer:  9\n",
      "Enter second integer:  9\n"
     ]
    },
    {
     "name": "stdout",
     "output_type": "stream",
     "text": [
      "Both numbers are equal.\n"
     ]
    }
   ],
   "source": [
    "num1 = int(input(\"Enter first integer: \"))\n",
    "num2 = int(input(\"Enter second integer: \"))\n",
    "\n",
    "if num1 > num2:\n",
    "    print(f\"The greatest number is {num1}\")\n",
    "elif num2 > num1:\n",
    "    print(f\"The greatest number is {num2}\")\n",
    "else:\n",
    "    print(\"Both numbers are equal.\")"
   ]
  },
  {
   "cell_type": "markdown",
   "id": "c4ce3491-03e3-449c-baef-7df531096172",
   "metadata": {},
   "source": [
    "## A shop will give discount of 10% if the cost of purchased quantity is more than 1000. Ask user for quantity Suppose, one unit will cost 100. Judge and print total cost for user."
   ]
  },
  {
   "cell_type": "code",
   "execution_count": 71,
   "id": "2d6b2bf4-1f85-46ca-8b1d-f0072f380422",
   "metadata": {},
   "outputs": [
    {
     "name": "stdin",
     "output_type": "stream",
     "text": [
      "Enter the quantity:  900\n"
     ]
    },
    {
     "name": "stdout",
     "output_type": "stream",
     "text": [
      "Total cost after discount: 81000.0\n"
     ]
    }
   ],
   "source": [
    "quantity = int(input(\"Enter the quantity: \"))\n",
    "unit_cost = 100\n",
    "total_cost = quantity * unit_cost\n",
    "\n",
    "if total_cost > 1000:\n",
    "    discount = total_cost * 0.10\n",
    "    total_cost -= discount\n",
    "    print(f\"Total cost after discount: {total_cost}\")\n",
    "else:\n",
    "    total_cost < 1000\n",
    "    print(f\"Your total amount without discount because your amount is less than 1000: {total_cost}\")"
   ]
  },
  {
   "cell_type": "markdown",
   "id": "d68eb57e-29c9-439c-9a29-5a6a2e9efda9",
   "metadata": {},
   "source": [
    "# A school has following rules for grading system:\n"
   ]
  },
  {
   "cell_type": "markdown",
   "id": "552ec8ca-e810-4c67-8965-03f4c5eb0339",
   "metadata": {},
   "source": [
    "## a. Below 25 - F\n",
    "\n"
   ]
  },
  {
   "cell_type": "markdown",
   "id": "e831d698-0e9b-464a-b573-3359be4c39d9",
   "metadata": {},
   "source": [
    "## b. 25 to 45 - E\n",
    "\n"
   ]
  },
  {
   "cell_type": "markdown",
   "id": "027a5320-1308-4a60-a65e-d12622c18383",
   "metadata": {},
   "source": [
    "## c. 45 to 50 - D\n",
    "\n"
   ]
  },
  {
   "cell_type": "markdown",
   "id": "9d1681d5-a39e-437a-a660-0e957b2ba122",
   "metadata": {},
   "source": [
    "## d. 50 to 60 - C\n",
    "\n"
   ]
  },
  {
   "cell_type": "markdown",
   "id": "a57fea74-f45b-4d7e-b82c-6e631eebbbdb",
   "metadata": {},
   "source": [
    "## e. 60 to 80 - B\n"
   ]
  },
  {
   "cell_type": "markdown",
   "id": "03739ba2-5a6d-4ee7-a401-97ae070128c4",
   "metadata": {},
   "source": [
    "## f. Above 80 - A\n",
    "\n"
   ]
  },
  {
   "cell_type": "markdown",
   "id": "12990181-e02b-4411-b557-03b7538aafd5",
   "metadata": {},
   "source": [
    "## Ask user to enter marks and print the corresponding grade."
   ]
  },
  {
   "cell_type": "code",
   "execution_count": 72,
   "id": "587ee89c-b057-4970-b7c9-a316f9ae9d34",
   "metadata": {},
   "outputs": [
    {
     "name": "stdin",
     "output_type": "stream",
     "text": [
      "Enter your marks:  89\n"
     ]
    },
    {
     "name": "stdout",
     "output_type": "stream",
     "text": [
      "Grade: A\n"
     ]
    }
   ],
   "source": [
    "marks = int(input(\"Enter your marks: \"))\n",
    "\n",
    "if marks < 25:\n",
    "    grade = 'F'\n",
    "elif 25 <= marks < 45:\n",
    "    grade = 'E'\n",
    "elif 45 <= marks < 50:\n",
    "    grade = 'D'\n",
    "elif 50 <= marks < 60:\n",
    "    grade = 'C'\n",
    "elif 60 <= marks < 70:\n",
    "    grade = 'B'\n",
    "else:\n",
    "    grade = 'A'\n",
    "\n",
    "print(f\"Grade: {grade}\")"
   ]
  },
  {
   "cell_type": "markdown",
   "id": "8948c2e9-d29a-4d9e-8753-1cdeaaef63c6",
   "metadata": {},
   "source": [
    "## A student will not be allowed to sit in exam if his/her attendence is less than 75%.\n",
    "\n"
   ]
  },
  {
   "cell_type": "markdown",
   "id": "8152c1a6-046a-45ad-9224-d5f1b8378eb0",
   "metadata": {},
   "source": [
    "## Take following input from user\n",
    "\n"
   ]
  },
  {
   "cell_type": "markdown",
   "id": "7a393f88-5212-42e2-bacb-122ec8ff0e32",
   "metadata": {},
   "source": [
    "## a.Number of classes held\n",
    "\n"
   ]
  },
  {
   "cell_type": "markdown",
   "id": "193c3b5b-510f-4da1-9ea9-8971d46aba0b",
   "metadata": {},
   "source": [
    "## b.Number of classes attended.\n"
   ]
  },
  {
   "cell_type": "markdown",
   "id": "fc272078-1d02-44bd-ba39-1c0e726a6377",
   "metadata": {},
   "source": [
    "## And print  percentage of class attended  Is student is allowed to sit in exam or not."
   ]
  },
  {
   "cell_type": "code",
   "execution_count": 75,
   "id": "c84559cf-45cd-4d2e-a334-93feafcb1f16",
   "metadata": {},
   "outputs": [
    {
     "name": "stdin",
     "output_type": "stream",
     "text": [
      "Enter the number of classes held:  100\n",
      "Enter the number of classes attended:  75\n"
     ]
    },
    {
     "name": "stdout",
     "output_type": "stream",
     "text": [
      "Attendance percentage: 75.0\n",
      "Student is allowed to sit in exam.\n"
     ]
    }
   ],
   "source": [
    "num_classes_held = int(input(\"Enter the number of classes held: \"))\n",
    "num_classes_attended = int(input(\"Enter the number of classes attended: \"))\n",
    "\n",
    "attendance_percentage = (num_classes_attended / num_classes_held) * 100\n",
    "\n",
    "print(f\"Attendance percentage: {attendance_percentage:}\")\n",
    "if attendance_percentage < 75:\n",
    "    print(\"Student will not be allowed to sit in exam.\")\n",
    "else:\n",
    "    print(\"Student is allowed to sit in exam.\")"
   ]
  },
  {
   "cell_type": "markdown",
   "id": "24b6d415-5cd5-40be-9ceb-73786ffa9710",
   "metadata": {},
   "source": [
    "## Modify the above question to allow student to sit if he/she has medical cause. Ask user if he/she has medical cause or not ( 'Y' or 'N' ) and print accordingly."
   ]
  },
  {
   "cell_type": "code",
   "execution_count": 77,
   "id": "4ecc95ea-6b17-45a8-a26a-592a8aa659a1",
   "metadata": {},
   "outputs": [
    {
     "name": "stdin",
     "output_type": "stream",
     "text": [
      "Enter the number of classes held:  88\n",
      "Enter the number of classes attended:  40\n"
     ]
    },
    {
     "name": "stdout",
     "output_type": "stream",
     "text": [
      "Attendance percentage: 45.45454545454545\n"
     ]
    },
    {
     "name": "stdin",
     "output_type": "stream",
     "text": [
      "Do you have a medical cause? (Y/N):  y\n"
     ]
    },
    {
     "name": "stdout",
     "output_type": "stream",
     "text": [
      "Student is allowed to sit in exam due to medical cause.\n"
     ]
    }
   ],
   "source": [
    "num_classes_held = int(input(\"Enter the number of classes held: \"))\n",
    "num_classes_attended = int(input(\"Enter the number of classes attended: \"))\n",
    "\n",
    "attendance_percentage = (num_classes_attended / num_classes_held) * 100\n",
    "\n",
    "print(f\"Attendance percentage: {attendance_percentage:}\")\n",
    "if attendance_percentage < 75:\n",
    "    medical_cause = input(\"Do you have a medical cause? (Y/N): \").strip().upper()\n",
    "    if medical_cause == 'Y':\n",
    "        print(\"Student is allowed to sit in exam due to medical cause.\")\n",
    "    else:\n",
    "        print(\"Student will not be allowed to sit in exam.\")\n",
    "else:\n",
    "    print(\"Student is allowed to sit in exam.\")"
   ]
  },
  {
   "cell_type": "markdown",
   "id": "7a497cf6-2d56-456f-a6f5-569ea23840ed",
   "metadata": {},
   "source": [
    "## Write a program to check if a year is leap year or not.\n"
   ]
  },
  {
   "cell_type": "markdown",
   "id": "1e4971d4-a7e4-44c2-9c81-33dc7400c9d4",
   "metadata": {},
   "source": [
    "## If a year is divisible by 4 then it is leap year but if the year is century year like 2000, 1900, 2100 then it must be divisible by 400."
   ]
  },
  {
   "cell_type": "code",
   "execution_count": 79,
   "id": "e10e27f0-8dfa-45da-a114-a4eb9a8b338a",
   "metadata": {},
   "outputs": [
    {
     "name": "stdin",
     "output_type": "stream",
     "text": [
      "Enter a year:  2100\n"
     ]
    },
    {
     "name": "stdout",
     "output_type": "stream",
     "text": [
      "2100 is not a leap year.\n"
     ]
    }
   ],
   "source": [
    "year = int(input(\"Enter a year: \"))\n",
    "\n",
    "if (year % 4 == 0):\n",
    "    if (year % 100 == 0):\n",
    "        if (year % 400 == 0):\n",
    "            print(f\"{year} is a leap year.\")\n",
    "        else:\n",
    "            print(f\"{year} is not a leap year.\")\n",
    "    else:\n",
    "        print(f\"{year} is a leap year.\")\n",
    "else:\n",
    "    print(f\"{year} is not a leap year.\")"
   ]
  },
  {
   "cell_type": "markdown",
   "id": "916ff5a1-2ea3-4e64-93b6-bcf9041928d0",
   "metadata": {},
   "source": [
    "## Ask user to enter age, gender ( M or F ), marital status ( Y or N ) and then using following rules print their place of service.\n"
   ]
  },
  {
   "cell_type": "markdown",
   "id": "51e3c95e-2536-422f-aa95-1edd812986ac",
   "metadata": {},
   "source": [
    "## if employee is female, then she will work only in urban areas.\n",
    "\n",
    "\n"
   ]
  },
  {
   "cell_type": "markdown",
   "id": "676702bc-5c1c-4278-afb2-31073bfcaf2c",
   "metadata": {},
   "source": [
    "## if employee is a male and age is in between 20 to 40 then he may work in anywhere\n",
    "\n",
    "\n"
   ]
  },
  {
   "cell_type": "markdown",
   "id": "f25f8570-aa35-40d7-8b67-c80c2d4303d1",
   "metadata": {},
   "source": [
    "## if employee is male and age is in between 40 t0 60 then he will work in urban areas only.\n",
    "\n"
   ]
  },
  {
   "cell_type": "code",
   "execution_count": 81,
   "id": "d117f49c-994d-46e5-91c0-8b34da151410",
   "metadata": {},
   "outputs": [
    {
     "name": "stdin",
     "output_type": "stream",
     "text": [
      "Enter age:  34\n",
      "Enter gender (M or F):  m\n",
      "Enter marital status (Y or N):  y\n"
     ]
    },
    {
     "name": "stdout",
     "output_type": "stream",
     "text": [
      "He may work anywhere.\n"
     ]
    }
   ],
   "source": [
    "age = int(input(\"Enter age: \"))\n",
    "gender = input(\"Enter gender (M or F): \").strip().upper()\n",
    "marital_status = input(\"Enter marital status (Y or N): \").strip().upper()\n",
    "\n",
    "if gender == 'F':\n",
    "    print(\"She will work only in urban areas.\")\n",
    "elif gender == 'M':\n",
    "    if 20 <= age <= 40:\n",
    "        print(\"He may work anywhere.\")\n",
    "    elif 40 < age <= 60:\n",
    "        print(\"He will work only in urban areas.\")\n",
    "    else:\n",
    "        print(\"ERROR\")\n",
    "else:\n",
    "    print(\"ERROR\")"
   ]
  },
  {
   "cell_type": "markdown",
   "id": "d1bbf52f-488f-42ed-bb52-c6a08bb8a16e",
   "metadata": {},
   "source": [
    "## Write a program to calculate the electricity bill (accept number of unit from user) according to the following criteria : Unit Price\n"
   ]
  },
  {
   "cell_type": "markdown",
   "id": "e0f3a041-40e7-4878-95ce-a730cfa95cad",
   "metadata": {},
   "source": [
    "## uptp 100 units no charge Next 200 units Rs 5 per unit After 200 units Rs 10 per unit (For example if input unit is 350 than total bill amount is Rs.3500 (For example if input unit is 97 than total bill amount is Rs.0 (For example if input unit is 150 than total bill amount is Rs.750 Take input of age of 3 people by user and determine oldest and youngest among them.\n"
   ]
  },
  {
   "cell_type": "code",
   "execution_count": 82,
   "id": "5a8650bc-a63a-4551-bdb0-04ba01259f13",
   "metadata": {},
   "outputs": [
    {
     "name": "stdin",
     "output_type": "stream",
     "text": [
      "Enter number of electricity units consumed:  77\n"
     ]
    },
    {
     "name": "stdout",
     "output_type": "stream",
     "text": [
      "Total electricity bill: Rs.0\n"
     ]
    },
    {
     "name": "stdin",
     "output_type": "stream",
     "text": [
      "Enter age of person 1:  77\n",
      "Enter age of person 2:  55\n",
      "Enter age of person 3:  44\n"
     ]
    },
    {
     "name": "stdout",
     "output_type": "stream",
     "text": [
      "The oldest age is: 77\n",
      "The youngest age is: 44\n"
     ]
    }
   ],
   "source": [
    "units = int(input(\"Enter number of electricity units consumed: \"))\n",
    "\n",
    "if units <= 100:\n",
    "    bill = 0\n",
    "elif units <= 300:\n",
    "    bill = (units - 100) * 5\n",
    "else:\n",
    "    bill = (200 * 5) + (units - 300) * 10\n",
    "\n",
    "print(f\"Total electricity bill: Rs.{bill}\")\n",
    "\n",
    "\n",
    "ages = []\n",
    "for i in range(1, 4):\n",
    "    age = int(input(f\"Enter age of person {i}: \"))\n",
    "    ages.append(age)\n",
    "\n",
    "oldest = max(ages)\n",
    "youngest = min(ages)\n",
    "\n",
    "print(f\"The oldest age is: {oldest}\")\n",
    "print(f\"The youngest age is: {youngest}\")"
   ]
  },
  {
   "cell_type": "code",
   "execution_count": null,
   "id": "0a879a90-686f-4852-852b-a22e8043687e",
   "metadata": {},
   "outputs": [],
   "source": []
  }
 ],
 "metadata": {
  "kernelspec": {
   "display_name": "Python 3 (ipykernel)",
   "language": "python",
   "name": "python3"
  },
  "language_info": {
   "codemirror_mode": {
    "name": "ipython",
    "version": 3
   },
   "file_extension": ".py",
   "mimetype": "text/x-python",
   "name": "python",
   "nbconvert_exporter": "python",
   "pygments_lexer": "ipython3",
   "version": "3.13.5"
  }
 },
 "nbformat": 4,
 "nbformat_minor": 5
}
