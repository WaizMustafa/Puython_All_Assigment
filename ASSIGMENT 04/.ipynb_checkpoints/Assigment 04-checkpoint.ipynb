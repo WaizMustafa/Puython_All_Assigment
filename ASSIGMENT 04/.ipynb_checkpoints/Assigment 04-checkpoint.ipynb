{
 "cells": [
  {
   "cell_type": "markdown",
   "id": "36e7a6b3-c4b0-4209-b3bb-464e0c84c2d4",
   "metadata": {},
   "source": [
    "#                                                         LIST ASSIGMENT\n",
    "\n"
   ]
  },
  {
   "cell_type": "markdown",
   "id": "aea94ecc-aee4-48c5-a8f0-e1d9b9390e96",
   "metadata": {},
   "source": [
    "## 1.Write a program that accept a list from user and print the alternate element of list."
   ]
  },
  {
   "cell_type": "code",
   "execution_count": 6,
   "id": "ab30e361-c9dd-48d7-80b8-3f1c6267e347",
   "metadata": {},
   "outputs": [
    {
     "name": "stdin",
     "output_type": "stream",
     "text": [
      "Enter a list of elements separated by spaces:  waiz mustafa \n"
     ]
    },
    {
     "name": "stdout",
     "output_type": "stream",
     "text": [
      "Alternate elements of the list:\n",
      "['waiz']\n"
     ]
    }
   ],
   "source": [
    "user_input = input(\"Enter a list of elements separated by spaces: \")\n",
    "user_list = user_input.split()\n",
    "print(\"Alternate elements of the list:\")\n",
    "print(user_list[::2])"
   ]
  },
  {
   "cell_type": "markdown",
   "id": "752a7ea1-78b5-4a8b-ad2c-1868f46bb93d",
   "metadata": {},
   "source": [
    "## 2.Write a program that accepts a list from user .Your program should reverse the content of list and display it. do not use reverse() method.\n"
   ]
  },
  {
   "cell_type": "code",
   "execution_count": 7,
   "id": "8de7f226-ede3-43fe-8c75-fb77cce4e747",
   "metadata": {},
   "outputs": [
    {
     "name": "stdin",
     "output_type": "stream",
     "text": [
      "Enter elements of the list separated by spaces:  waiz mustafa\n"
     ]
    },
    {
     "name": "stdout",
     "output_type": "stream",
     "text": [
      "Reversed list: ['mustafa', 'waiz']\n"
     ]
    }
   ],
   "source": [
    "user_input = input(\"Enter elements of the list separated by spaces: \")\n",
    "list = user_input.split()\n",
    "reversed_list = list[::-1]\n",
    "print(\"Reversed list:\", reversed_list)"
   ]
  },
  {
   "cell_type": "markdown",
   "id": "ff26ffe1-04b5-4607-a0a7-b8dbcac26a9f",
   "metadata": {},
   "source": [
    "## 3. Find and display the largest number of a list without using built -in function max().Your program ahould ask the user to input values in list from keyboard."
   ]
  },
  {
   "cell_type": "code",
   "execution_count": 8,
   "id": "77c3c5c4-d9c1-48d6-8977-7eb09dc47b63",
   "metadata": {},
   "outputs": [
    {
     "name": "stdin",
     "output_type": "stream",
     "text": [
      "Enter numbers separated by spaces:  1 2 3 3 4 4 555 66  6  7  7  7 77 6 66  6 \n"
     ]
    },
    {
     "name": "stdout",
     "output_type": "stream",
     "text": [
      "The largest number is: 555\n"
     ]
    }
   ],
   "source": [
    "numbers = input(\"Enter numbers separated by spaces: \").split()\n",
    "numbers = [int(num) for num in numbers]\n",
    "\n",
    "largest = numbers[0]\n",
    "for num in numbers[1:]:\n",
    "    if num > largest:\n",
    "        largest = num\n",
    "\n",
    "print(\"The largest number is:\", largest)"
   ]
  },
  {
   "cell_type": "markdown",
   "id": "1630c6c4-dd79-45ec-884e-beb20cab7cbd",
   "metadata": {},
   "source": [
    "## 4.Write a program that rotates the element of a list so that the element at the first index moves to the second index , the element in the second index movesto the third index, etc., and the element in the last index moves to the first index.\n"
   ]
  },
  {
   "cell_type": "code",
   "execution_count": 9,
   "id": "5718c5b3-159c-4c28-8a6e-d3d3cf162781",
   "metadata": {},
   "outputs": [
    {
     "name": "stdout",
     "output_type": "stream",
     "text": [
      "Original list: [1, 2, 3, 4, 5]\n",
      "Rotated list: [5, 1, 2, 3, 4]\n"
     ]
    }
   ],
   "source": [
    "def rotate_list(list):\n",
    "    if list:\n",
    "        return [list[-1]] + list[:-1]\n",
    "    return list\n",
    "\n",
    "\n",
    "sample_list = [1, 2, 3, 4, 5]\n",
    "rotated = rotate_list(sample_list)\n",
    "print(\"Original list:\", sample_list)\n",
    "print(\"Rotated list:\", rotated)"
   ]
  },
  {
   "cell_type": "markdown",
   "id": "d9dc7f41-d39b-4aec-9c74-77d5eaac2365",
   "metadata": {},
   "source": [
    "## 5.write a program that input a string and ask user to delete a given word from a string."
   ]
  },
  {
   "cell_type": "code",
   "execution_count": 11,
   "id": "5a8a9b1c-7faf-4ee0-887f-919455da7c69",
   "metadata": {},
   "outputs": [
    {
     "name": "stdin",
     "output_type": "stream",
     "text": [
      "Enter a string:  waiz\n",
      "Enter the word to delete:  z\n"
     ]
    },
    {
     "name": "stdout",
     "output_type": "stream",
     "text": [
      "Resulting string: wai\n"
     ]
    }
   ],
   "source": [
    "input_str = input(\"Enter a string: \")\n",
    "word_to_delete = input(\"Enter the word to delete: \")\n",
    "\n",
    "                                                        # Remove all occurrences of the word\n",
    "result = input_str.replace(word_to_delete, \"\")\n",
    "print(\"Resulting string:\", result.strip())"
   ]
  },
  {
   "cell_type": "markdown",
   "id": "1dd34f21-5d13-4ef2-9c12-f3c30e1778bf",
   "metadata": {},
   "source": [
    "## 6.Write a program that reads a string from the user containing a date in the form mm/dd/yyyy.it should print the date in the from March 12, 2021.\n"
   ]
  },
  {
   "cell_type": "code",
   "execution_count": 14,
   "id": "1f0aa2be-fd71-4683-9130-2657d8fe00b1",
   "metadata": {},
   "outputs": [
    {
     "name": "stdin",
     "output_type": "stream",
     "text": [
      "Enter a date (mm/dd/yyyy):  8/8/2000\n"
     ]
    },
    {
     "name": "stdout",
     "output_type": "stream",
     "text": [
      "August 8, 2000\n"
     ]
    }
   ],
   "source": [
    "months = [\n",
    "    \"January\", \"February\", \"March\", \"April\", \"May\", \"June\",\n",
    "    \"July\", \"August\", \"September\", \"October\", \"November\", \"December\"\n",
    "]\n",
    "\n",
    "date_str = input(\"Enter a date (mm/dd/yyyy): \")\n",
    "mm, dd, yyyy = date_str.split('/')\n",
    "\n",
    "month_name = months[int(mm) - 1]\n",
    "print(f\"{month_name} {int(dd)}, {yyyy}\")"
   ]
  },
  {
   "cell_type": "markdown",
   "id": "0df6420c-2585-4321-866d-520632791c3c",
   "metadata": {},
   "source": [
    "## 7.Write a program with a function that accepts a string  from keyboard and create a new string after converting character of each word capitalized. For instance, if the sentence is \"\"stop and smell the roses.\" the output should be \"stop and smell the roses\"\n"
   ]
  },
  {
   "cell_type": "code",
   "execution_count": 15,
   "id": "09a1d2d6-a6c3-4435-9524-5e316a0839ef",
   "metadata": {},
   "outputs": [
    {
     "name": "stdin",
     "output_type": "stream",
     "text": [
      "Enter a sentence:   i play in the park\n"
     ]
    },
    {
     "name": "stdout",
     "output_type": "stream",
     "text": [
      " I Play In The Park\n"
     ]
    }
   ],
   "source": [
    "def capitalize_words(sentence):\n",
    "    return sentence.title()\n",
    "\n",
    "user_input = input(\"Enter a sentence: \")\n",
    "result = capitalize_words(user_input)\n",
    "print(result)"
   ]
  },
  {
   "cell_type": "markdown",
   "id": "e7b3fd2d-0074-4cbb-b6b6-b51c363d693e",
   "metadata": {},
   "source": [
    "## 8.Find the sum of each row of matrix of size m * n. For example for the following matrix output will be like this :\n",
    "\n"
   ]
  },
  {
   "cell_type": "markdown",
   "id": "1de55051-5817-4ac4-81e9-044cf88c84ed",
   "metadata": {},
   "source": [
    "## 2       11      7        12\n"
   ]
  },
  {
   "cell_type": "markdown",
   "id": "9852c7b5-d8fe-4840-a68e-9451eac3d67b",
   "metadata": {},
   "source": [
    "## 5        2        9        15\n"
   ]
  },
  {
   "cell_type": "markdown",
   "id": "5990001d-1450-466c-a87b-694146a77b08",
   "metadata": {},
   "source": [
    "## 8        3       10        42\n"
   ]
  },
  {
   "cell_type": "markdown",
   "id": "f8464c01-e1b3-4c88-81d9-b0f05ed9a9cf",
   "metadata": {},
   "source": [
    "## sum of row 1 = 32\n"
   ]
  },
  {
   "cell_type": "markdown",
   "id": "8a33eebe-f335-456d-8516-ee30e8e816cf",
   "metadata": {},
   "source": [
    "## sum of row 2 = 31\n"
   ]
  },
  {
   "cell_type": "markdown",
   "id": "cc76cc6e-09cf-47ed-84d9-5daff606173e",
   "metadata": {},
   "source": [
    "## sum of row 3 = 63"
   ]
  },
  {
   "cell_type": "code",
   "execution_count": 16,
   "id": "be7ffb1f-7961-4380-aef9-49390dd5e2f6",
   "metadata": {},
   "outputs": [
    {
     "name": "stdout",
     "output_type": "stream",
     "text": [
      "sum of row 1 = 32\n",
      "sum of row 2 = 31\n",
      "sum of row 3 = 63\n"
     ]
    }
   ],
   "source": [
    "matrix = [\n",
    "    [2, 11, 7, 12],\n",
    "    [5, 2, 9, 15],\n",
    "    [8, 3, 10, 42]\n",
    "]\n",
    "\n",
    "for idx, row in enumerate(matrix, start=1):\n",
    "    row_sum = sum(row)\n",
    "    print(f\"sum of row {idx} = {row_sum}\")"
   ]
  },
  {
   "cell_type": "markdown",
   "id": "0b653a1b-c465-4e25-a395-a7f15cee1250",
   "metadata": {},
   "source": [
    "## 9. Write a program to add two matrices of size n * m. "
   ]
  },
  {
   "cell_type": "code",
   "execution_count": 17,
   "id": "e95ea0de-df56-45ab-b788-3a3f6d837d45",
   "metadata": {},
   "outputs": [
    {
     "name": "stdout",
     "output_type": "stream",
     "text": [
      "Sum of matrices:\n",
      "[8, 10, 12]\n",
      "[14, 16, 18]\n"
     ]
    }
   ],
   "source": [
    "              # Example matrices of size n x m\n",
    "W = [\n",
    "    [1, 2, 3],\n",
    "    [4, 5, 6]\n",
    "]\n",
    "Z = [\n",
    "    [7, 8, 9],\n",
    "    [10, 11, 12]\n",
    "]\n",
    "\n",
    "          # Add two matrices\n",
    "result = []\n",
    "for i in range(len(W)):\n",
    "    row = []\n",
    "    for j in range(len(W[0])):\n",
    "        row.append(W[i][j] + Z[i][j])\n",
    "    result.append(row)\n",
    "\n",
    "print(\"Sum of matrices:\")\n",
    "for row in result:\n",
    "    print(row)"
   ]
  },
  {
   "cell_type": "markdown",
   "id": "7b9a4b71-4cd0-4918-9e9f-b6b489c9c4b2",
   "metadata": {},
   "source": [
    "## 10. Write a program to multiply two matrices\n"
   ]
  },
  {
   "cell_type": "code",
   "execution_count": 23,
   "id": "024ac040-14aa-4f8a-9944-d2b7d4199ef5",
   "metadata": {},
   "outputs": [
    {
     "name": "stdout",
     "output_type": "stream",
     "text": [
      "Resultant Matrix:\n",
      "[58, 64]\n",
      "[139, 154]\n"
     ]
    }
   ],
   "source": [
    "# Example matrices\n",
    "A = [\n",
    "    [1, 2, 3],\n",
    "    [4, 5, 6]\n",
    "]\n",
    "B = [\n",
    "    [7, 8],\n",
    "    [9, 10],\n",
    "    [11, 12]\n",
    "]\n",
    "\n",
    "                           # Initialize result matrix with zeros\n",
    "result = [[0 for _ in range(len(B[0]))] for _ in range(len(A))]\n",
    "\n",
    "                       # Matrix multiplication\n",
    "for i in range(len(A)):\n",
    "    for j in range(len(B[0])):\n",
    "        for k in range(len(B)):\n",
    "            result[i][j] += A[i][k] * B[k][j]\n",
    "\n",
    "print(\"Resultant Matrix:\")\n",
    "for row in result:\n",
    "    print(row)"
   ]
  },
  {
   "cell_type": "code",
   "execution_count": null,
   "id": "7409aec6-1457-43fa-8a02-cf199eb5f274",
   "metadata": {},
   "outputs": [],
   "source": []
  }
 ],
 "metadata": {
  "kernelspec": {
   "display_name": "Python 3 (ipykernel)",
   "language": "python",
   "name": "python3"
  },
  "language_info": {
   "codemirror_mode": {
    "name": "ipython",
    "version": 3
   },
   "file_extension": ".py",
   "mimetype": "text/x-python",
   "name": "python",
   "nbconvert_exporter": "python",
   "pygments_lexer": "ipython3",
   "version": "3.13.5"
  }
 },
 "nbformat": 4,
 "nbformat_minor": 5
}
